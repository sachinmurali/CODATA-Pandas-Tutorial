{
 "cells": [
  {
   "cell_type": "markdown",
   "metadata": {},
   "source": [
    "### The dataset is available at - https://www.kaggle.com/mylesoneill/world-university-rankings"
   ]
  },
  {
   "cell_type": "markdown",
   "metadata": {},
   "source": [
    "### Load all the libraries and include matplotlib line to make all the plots static within the IPython notebook"
   ]
  },
  {
   "cell_type": "code",
   "execution_count": 330,
   "metadata": {
    "collapsed": false
   },
   "outputs": [],
   "source": [
    "import pandas as pd\n",
    "import matplotlib.pyplot as plt\n",
    "import re\n",
    "%matplotlib inline\n",
    "plt.rcParams['figure.figsize'] = 12, 8"
   ]
  },
  {
   "cell_type": "markdown",
   "metadata": {},
   "source": [
    "### Read in the data using the read_csv function"
   ]
  },
  {
   "cell_type": "code",
   "execution_count": 331,
   "metadata": {
    "collapsed": false
   },
   "outputs": [],
   "source": [
    "cwurData = pd.read_csv(\"data/cwurData.csv\")\n",
    "shanghaiData = pd.read_csv(\"data/shanghaiData.csv\")\n",
    "timesData = pd.read_csv(\"data/timesData.csv\")"
   ]
  },
  {
   "cell_type": "markdown",
   "metadata": {},
   "source": [
    "### Check if CU Boulder is present in the institution column"
   ]
  },
  {
   "cell_type": "code",
   "execution_count": 332,
   "metadata": {
    "collapsed": false
   },
   "outputs": [
    {
     "data": {
      "text/plain": [
       "True"
      ]
     },
     "execution_count": 332,
     "metadata": {},
     "output_type": "execute_result"
    }
   ],
   "source": [
    "\"University of Colorado Boulder\" in cwurData['institution'].unique()"
   ]
  },
  {
   "cell_type": "code",
   "execution_count": 333,
   "metadata": {
    "collapsed": false
   },
   "outputs": [
    {
     "data": {
      "text/html": [
       "<div>\n",
       "<table border=\"1\" class=\"dataframe\">\n",
       "  <thead>\n",
       "    <tr style=\"text-align: right;\">\n",
       "      <th></th>\n",
       "      <th>world_rank</th>\n",
       "      <th>year</th>\n",
       "      <th>survey</th>\n",
       "    </tr>\n",
       "  </thead>\n",
       "  <tbody>\n",
       "    <tr>\n",
       "      <th>45</th>\n",
       "      <td>46</td>\n",
       "      <td>2012</td>\n",
       "      <td>CWUR</td>\n",
       "    </tr>\n",
       "    <tr>\n",
       "      <th>140</th>\n",
       "      <td>41</td>\n",
       "      <td>2013</td>\n",
       "      <td>CWUR</td>\n",
       "    </tr>\n",
       "    <tr>\n",
       "      <th>262</th>\n",
       "      <td>63</td>\n",
       "      <td>2014</td>\n",
       "      <td>CWUR</td>\n",
       "    </tr>\n",
       "    <tr>\n",
       "      <th>1253</th>\n",
       "      <td>54</td>\n",
       "      <td>2015</td>\n",
       "      <td>CWUR</td>\n",
       "    </tr>\n",
       "  </tbody>\n",
       "</table>\n",
       "</div>"
      ],
      "text/plain": [
       "      world_rank  year survey\n",
       "45            46  2012   CWUR\n",
       "140           41  2013   CWUR\n",
       "262           63  2014   CWUR\n",
       "1253          54  2015   CWUR"
      ]
     },
     "execution_count": 333,
     "metadata": {},
     "output_type": "execute_result"
    }
   ],
   "source": [
    "cwur_cu_ranking = cwurData[cwurData.institution.isin([\"University of Colorado Boulder\"])][['world_rank', 'year']]\n",
    "cwur_cu_ranking['survey'] = \"CWUR\"\n",
    "cwur_cu_ranking"
   ]
  },
  {
   "cell_type": "markdown",
   "metadata": {},
   "source": [
    "### Repeat the same for Times and Shanghai data"
   ]
  },
  {
   "cell_type": "code",
   "execution_count": 334,
   "metadata": {
    "collapsed": false
   },
   "outputs": [
    {
     "data": {
      "text/plain": [
       "True"
      ]
     },
     "execution_count": 334,
     "metadata": {},
     "output_type": "execute_result"
    }
   ],
   "source": [
    "\"University of Colorado Boulder\" in timesData['university_name'].unique()"
   ]
  },
  {
   "cell_type": "code",
   "execution_count": 335,
   "metadata": {
    "collapsed": false
   },
   "outputs": [],
   "source": [
    "times_cu_ranking = timesData[timesData.university_name.isin([\"University of Colorado Boulder\"])][['world_rank', 'year']]\n",
    "times_cu_ranking['survey'] = \"Times\""
   ]
  },
  {
   "cell_type": "code",
   "execution_count": 336,
   "metadata": {
    "collapsed": false
   },
   "outputs": [
    {
     "data": {
      "text/plain": [
       "True"
      ]
     },
     "execution_count": 336,
     "metadata": {},
     "output_type": "execute_result"
    }
   ],
   "source": [
    "\"University of Colorado at Boulder\" in shanghaiData['university_name'].unique()"
   ]
  },
  {
   "cell_type": "code",
   "execution_count": 337,
   "metadata": {
    "collapsed": false
   },
   "outputs": [],
   "source": [
    "shanghai_cu_ranking = shangaiData[shanghaiData.university_name.isin([\"University of Colorado at Boulder\"])][['world_rank', 'year']]\n",
    "shanghai_cu_ranking['survey'] = \"Shanghai\""
   ]
  },
  {
   "cell_type": "markdown",
   "metadata": {},
   "source": [
    "### Combine the three dataframes into a single dataframe using the append function"
   ]
  },
  {
   "cell_type": "code",
   "execution_count": 338,
   "metadata": {
    "collapsed": false
   },
   "outputs": [
    {
     "data": {
      "text/html": [
       "<div>\n",
       "<table border=\"1\" class=\"dataframe\">\n",
       "  <thead>\n",
       "    <tr style=\"text-align: right;\">\n",
       "      <th></th>\n",
       "      <th>world_rank</th>\n",
       "      <th>year</th>\n",
       "      <th>survey</th>\n",
       "    </tr>\n",
       "  </thead>\n",
       "  <tbody>\n",
       "    <tr>\n",
       "      <th>45</th>\n",
       "      <td>46</td>\n",
       "      <td>2012</td>\n",
       "      <td>CWUR</td>\n",
       "    </tr>\n",
       "    <tr>\n",
       "      <th>140</th>\n",
       "      <td>41</td>\n",
       "      <td>2013</td>\n",
       "      <td>CWUR</td>\n",
       "    </tr>\n",
       "    <tr>\n",
       "      <th>262</th>\n",
       "      <td>63</td>\n",
       "      <td>2014</td>\n",
       "      <td>CWUR</td>\n",
       "    </tr>\n",
       "    <tr>\n",
       "      <th>1253</th>\n",
       "      <td>54</td>\n",
       "      <td>2015</td>\n",
       "      <td>CWUR</td>\n",
       "    </tr>\n",
       "    <tr>\n",
       "      <th>66</th>\n",
       "      <td>67</td>\n",
       "      <td>2011</td>\n",
       "      <td>Times</td>\n",
       "    </tr>\n",
       "    <tr>\n",
       "      <th>277</th>\n",
       "      <td>77</td>\n",
       "      <td>2012</td>\n",
       "      <td>Times</td>\n",
       "    </tr>\n",
       "    <tr>\n",
       "      <th>692</th>\n",
       "      <td>91</td>\n",
       "      <td>2013</td>\n",
       "      <td>Times</td>\n",
       "    </tr>\n",
       "    <tr>\n",
       "      <th>1098</th>\n",
       "      <td>97</td>\n",
       "      <td>2014</td>\n",
       "      <td>Times</td>\n",
       "    </tr>\n",
       "    <tr>\n",
       "      <th>1498</th>\n",
       "      <td>97</td>\n",
       "      <td>2015</td>\n",
       "      <td>Times</td>\n",
       "    </tr>\n",
       "    <tr>\n",
       "      <th>1930</th>\n",
       "      <td>=127</td>\n",
       "      <td>2016</td>\n",
       "      <td>Times</td>\n",
       "    </tr>\n",
       "  </tbody>\n",
       "</table>\n",
       "</div>"
      ],
      "text/plain": [
       "     world_rank  year survey\n",
       "45           46  2012   CWUR\n",
       "140          41  2013   CWUR\n",
       "262          63  2014   CWUR\n",
       "1253         54  2015   CWUR\n",
       "66           67  2011  Times\n",
       "277          77  2012  Times\n",
       "692          91  2013  Times\n",
       "1098         97  2014  Times\n",
       "1498         97  2015  Times\n",
       "1930       =127  2016  Times"
      ]
     },
     "execution_count": 338,
     "metadata": {},
     "output_type": "execute_result"
    }
   ],
   "source": [
    "all_university_rankings = cwur_cu_ranking.append(times_cu_ranking).append(shanghai_cu_ranking)\n",
    "all_university_rankings.head(10)"
   ]
  },
  {
   "cell_type": "markdown",
   "metadata": {},
   "source": [
    "### Strip out non-numeric values from the world_rank column using regex, apply and lambda\n",
    "\n",
    "* Apply is used to call a function on a series element or a dataframe\n",
    "* Lambda is just a cool way of saying functions"
   ]
  },
  {
   "cell_type": "code",
   "execution_count": 339,
   "metadata": {
    "collapsed": false
   },
   "outputs": [
    {
     "data": {
      "text/html": [
       "<div>\n",
       "<table border=\"1\" class=\"dataframe\">\n",
       "  <thead>\n",
       "    <tr style=\"text-align: right;\">\n",
       "      <th></th>\n",
       "      <th>world_rank</th>\n",
       "      <th>year</th>\n",
       "      <th>survey</th>\n",
       "    </tr>\n",
       "  </thead>\n",
       "  <tbody>\n",
       "    <tr>\n",
       "      <th>45</th>\n",
       "      <td>46</td>\n",
       "      <td>2012</td>\n",
       "      <td>CWUR</td>\n",
       "    </tr>\n",
       "    <tr>\n",
       "      <th>140</th>\n",
       "      <td>41</td>\n",
       "      <td>2013</td>\n",
       "      <td>CWUR</td>\n",
       "    </tr>\n",
       "    <tr>\n",
       "      <th>262</th>\n",
       "      <td>63</td>\n",
       "      <td>2014</td>\n",
       "      <td>CWUR</td>\n",
       "    </tr>\n",
       "    <tr>\n",
       "      <th>1253</th>\n",
       "      <td>54</td>\n",
       "      <td>2015</td>\n",
       "      <td>CWUR</td>\n",
       "    </tr>\n",
       "    <tr>\n",
       "      <th>66</th>\n",
       "      <td>67</td>\n",
       "      <td>2011</td>\n",
       "      <td>Times</td>\n",
       "    </tr>\n",
       "    <tr>\n",
       "      <th>277</th>\n",
       "      <td>77</td>\n",
       "      <td>2012</td>\n",
       "      <td>Times</td>\n",
       "    </tr>\n",
       "    <tr>\n",
       "      <th>692</th>\n",
       "      <td>91</td>\n",
       "      <td>2013</td>\n",
       "      <td>Times</td>\n",
       "    </tr>\n",
       "    <tr>\n",
       "      <th>1098</th>\n",
       "      <td>97</td>\n",
       "      <td>2014</td>\n",
       "      <td>Times</td>\n",
       "    </tr>\n",
       "    <tr>\n",
       "      <th>1498</th>\n",
       "      <td>97</td>\n",
       "      <td>2015</td>\n",
       "      <td>Times</td>\n",
       "    </tr>\n",
       "    <tr>\n",
       "      <th>1930</th>\n",
       "      <td>127</td>\n",
       "      <td>2016</td>\n",
       "      <td>Times</td>\n",
       "    </tr>\n",
       "    <tr>\n",
       "      <th>34</th>\n",
       "      <td>35</td>\n",
       "      <td>2005</td>\n",
       "      <td>Shanghai</td>\n",
       "    </tr>\n",
       "    <tr>\n",
       "      <th>533</th>\n",
       "      <td>34</td>\n",
       "      <td>2006</td>\n",
       "      <td>Shanghai</td>\n",
       "    </tr>\n",
       "    <tr>\n",
       "      <th>1033</th>\n",
       "      <td>34</td>\n",
       "      <td>2007</td>\n",
       "      <td>Shanghai</td>\n",
       "    </tr>\n",
       "    <tr>\n",
       "      <th>1543</th>\n",
       "      <td>34</td>\n",
       "      <td>2008</td>\n",
       "      <td>Shanghai</td>\n",
       "    </tr>\n",
       "    <tr>\n",
       "      <th>2046</th>\n",
       "      <td>34</td>\n",
       "      <td>2009</td>\n",
       "      <td>Shanghai</td>\n",
       "    </tr>\n",
       "    <tr>\n",
       "      <th>2546</th>\n",
       "      <td>32</td>\n",
       "      <td>2010</td>\n",
       "      <td>Shanghai</td>\n",
       "    </tr>\n",
       "    <tr>\n",
       "      <th>3045</th>\n",
       "      <td>32</td>\n",
       "      <td>2011</td>\n",
       "      <td>Shanghai</td>\n",
       "    </tr>\n",
       "    <tr>\n",
       "      <th>3546</th>\n",
       "      <td>33</td>\n",
       "      <td>2012</td>\n",
       "      <td>Shanghai</td>\n",
       "    </tr>\n",
       "    <tr>\n",
       "      <th>3830</th>\n",
       "      <td>33</td>\n",
       "      <td>2013</td>\n",
       "      <td>Shanghai</td>\n",
       "    </tr>\n",
       "    <tr>\n",
       "      <th>3930</th>\n",
       "      <td>34</td>\n",
       "      <td>2014</td>\n",
       "      <td>Shanghai</td>\n",
       "    </tr>\n",
       "  </tbody>\n",
       "</table>\n",
       "</div>"
      ],
      "text/plain": [
       "     world_rank  year    survey\n",
       "45           46  2012      CWUR\n",
       "140          41  2013      CWUR\n",
       "262          63  2014      CWUR\n",
       "1253         54  2015      CWUR\n",
       "66           67  2011     Times\n",
       "277          77  2012     Times\n",
       "692          91  2013     Times\n",
       "1098         97  2014     Times\n",
       "1498         97  2015     Times\n",
       "1930        127  2016     Times\n",
       "34           35  2005  Shanghai\n",
       "533          34  2006  Shanghai\n",
       "1033         34  2007  Shanghai\n",
       "1543         34  2008  Shanghai\n",
       "2046         34  2009  Shanghai\n",
       "2546         32  2010  Shanghai\n",
       "3045         32  2011  Shanghai\n",
       "3546         33  2012  Shanghai\n",
       "3830         33  2013  Shanghai\n",
       "3930         34  2014  Shanghai"
      ]
     },
     "execution_count": 339,
     "metadata": {},
     "output_type": "execute_result"
    }
   ],
   "source": [
    "all_university_rankings['world_rank'] = all_university_rankings['world_rank'].apply(lambda x : re.sub(\"[^0-9]\", \"\", str(x)))\n",
    "all_university_rankings.head(20)"
   ]
  },
  {
   "cell_type": "code",
   "execution_count": 340,
   "metadata": {
    "collapsed": true
   },
   "outputs": [],
   "source": [
    "all_university_rankings['world_rank'] = all_university_rankings['world_rank'].astype(int)"
   ]
  },
  {
   "cell_type": "markdown",
   "metadata": {},
   "source": [
    "* Create a groupby variable that groups the **all_university_ranking** dataframe by **survey**\n",
    "* Unpack the subplot tuple into a **_figure_** variable and a **_subplot_** variable\n",
    "* Create a point plot for each group with **year** on the **x_axis** and **world_rank** on the **y_axis** "
   ]
  },
  {
   "cell_type": "code",
   "execution_count": 341,
   "metadata": {
    "collapsed": false
   },
   "outputs": [
    {
     "data": {
      "image/png": "[encoded data removed]",
      "text/plain": [
       "<matplotlib.figure.Figure at 0x7f3f513c9490>"
      ]
     },
     "metadata": {},
     "output_type": "display_data"
    }
   ],
   "source": [
    "groups = all_university_rankings.groupby('survey')\n",
    "\n",
    "fig, ax = plt.subplots()\n",
    "ax.margins(0.05)\n",
    "\n",
    "for name, group in groups:\n",
    "    ax.plot(group.year, group.world_rank, marker='o', linestyle='-', ms=12, label=name)\n",
    "    \n",
    "ax.legend(loc=2,prop={'size':30})\n",
    "\n",
    "plt.title(\"CU Boulder Ranking\", fontsize=26)\n",
    "plt.xticks(fontsize=22)\n",
    "plt.yticks(fontsize=22)    \n",
    "plt.ylabel(\"World Rank\", fontsize=26)  \n",
    "plt.xlabel(\"Year\", fontsize=26)\n",
    "plt.show()"
   ]
  },
  {
   "cell_type": "markdown",
   "metadata": {},
   "source": [
    "### Let's see which countries have the highest educational ratings\n",
    "\n",
    "* Create a groupby variable that groups scores based on the country\n",
    "* After that, use the **agg()** function to calculate different statistics (mean score and university count)"
   ]
  },
  {
   "cell_type": "code",
   "execution_count": 342,
   "metadata": {
    "collapsed": false
   },
   "outputs": [
    {
     "data": {
      "text/html": [
       "<div>\n",
       "<table border=\"1\" class=\"dataframe\">\n",
       "  <thead>\n",
       "    <tr style=\"text-align: right;\">\n",
       "      <th></th>\n",
       "      <th>country</th>\n",
       "      <th>mean</th>\n",
       "      <th>count</th>\n",
       "    </tr>\n",
       "  </thead>\n",
       "  <tbody>\n",
       "    <tr>\n",
       "      <th>0</th>\n",
       "      <td>Argentina</td>\n",
       "      <td>44.672857</td>\n",
       "      <td>7</td>\n",
       "    </tr>\n",
       "    <tr>\n",
       "      <th>1</th>\n",
       "      <td>Australia</td>\n",
       "      <td>45.825517</td>\n",
       "      <td>58</td>\n",
       "    </tr>\n",
       "    <tr>\n",
       "      <th>2</th>\n",
       "      <td>Austria</td>\n",
       "      <td>45.139583</td>\n",
       "      <td>24</td>\n",
       "    </tr>\n",
       "    <tr>\n",
       "      <th>3</th>\n",
       "      <td>Belgium</td>\n",
       "      <td>47.011000</td>\n",
       "      <td>20</td>\n",
       "    </tr>\n",
       "    <tr>\n",
       "      <th>4</th>\n",
       "      <td>Brazil</td>\n",
       "      <td>44.781111</td>\n",
       "      <td>36</td>\n",
       "    </tr>\n",
       "  </tbody>\n",
       "</table>\n",
       "</div>"
      ],
      "text/plain": [
       "     country       mean  count\n",
       "0  Argentina  44.672857      7\n",
       "1  Australia  45.825517     58\n",
       "2    Austria  45.139583     24\n",
       "3    Belgium  47.011000     20\n",
       "4     Brazil  44.781111     36"
      ]
     },
     "execution_count": 342,
     "metadata": {},
     "output_type": "execute_result"
    }
   ],
   "source": [
    "cwur_agg = cwurData.groupby(['country'])['score'].agg(['mean','count']).reset_index()\n",
    "cwur_agg.head()"
   ]
  },
  {
   "cell_type": "markdown",
   "metadata": {},
   "source": [
    "### Sort the universities based on the descending order of the mean score"
   ]
  },
  {
   "cell_type": "code",
   "execution_count": 343,
   "metadata": {
    "collapsed": false
   },
   "outputs": [
    {
     "name": "stderr",
     "output_type": "stream",
     "text": [
      "/usr/local/lib/python2.7/dist-packages/ipykernel/__main__.py:1: FutureWarning: sort(columns=....) is deprecated, use sort_values(by=.....)\n",
      "  if __name__ == '__main__':\n"
     ]
    },
    {
     "data": {
      "text/html": [
       "<div>\n",
       "<table border=\"1\" class=\"dataframe\">\n",
       "  <thead>\n",
       "    <tr style=\"text-align: right;\">\n",
       "      <th></th>\n",
       "      <th>country</th>\n",
       "      <th>mean</th>\n",
       "      <th>count</th>\n",
       "    </tr>\n",
       "  </thead>\n",
       "  <tbody>\n",
       "    <tr>\n",
       "      <th>26</th>\n",
       "      <td>Israel</td>\n",
       "      <td>52.654091</td>\n",
       "      <td>22</td>\n",
       "    </tr>\n",
       "    <tr>\n",
       "      <th>54</th>\n",
       "      <td>USA</td>\n",
       "      <td>51.839860</td>\n",
       "      <td>573</td>\n",
       "    </tr>\n",
       "    <tr>\n",
       "      <th>50</th>\n",
       "      <td>Switzerland</td>\n",
       "      <td>51.208846</td>\n",
       "      <td>26</td>\n",
       "    </tr>\n",
       "    <tr>\n",
       "      <th>43</th>\n",
       "      <td>Singapore</td>\n",
       "      <td>50.160000</td>\n",
       "      <td>5</td>\n",
       "    </tr>\n",
       "    <tr>\n",
       "      <th>57</th>\n",
       "      <td>United Kingdom</td>\n",
       "      <td>49.474653</td>\n",
       "      <td>144</td>\n",
       "    </tr>\n",
       "    <tr>\n",
       "      <th>33</th>\n",
       "      <td>Netherlands</td>\n",
       "      <td>47.958276</td>\n",
       "      <td>29</td>\n",
       "    </tr>\n",
       "    <tr>\n",
       "      <th>49</th>\n",
       "      <td>Sweden</td>\n",
       "      <td>47.890000</td>\n",
       "      <td>24</td>\n",
       "    </tr>\n",
       "    <tr>\n",
       "      <th>13</th>\n",
       "      <td>Denmark</td>\n",
       "      <td>47.774167</td>\n",
       "      <td>12</td>\n",
       "    </tr>\n",
       "    <tr>\n",
       "      <th>40</th>\n",
       "      <td>Russia</td>\n",
       "      <td>47.381111</td>\n",
       "      <td>9</td>\n",
       "    </tr>\n",
       "    <tr>\n",
       "      <th>6</th>\n",
       "      <td>Canada</td>\n",
       "      <td>47.359306</td>\n",
       "      <td>72</td>\n",
       "    </tr>\n",
       "    <tr>\n",
       "      <th>28</th>\n",
       "      <td>Japan</td>\n",
       "      <td>47.229560</td>\n",
       "      <td>159</td>\n",
       "    </tr>\n",
       "    <tr>\n",
       "      <th>3</th>\n",
       "      <td>Belgium</td>\n",
       "      <td>47.011000</td>\n",
       "      <td>20</td>\n",
       "    </tr>\n",
       "    <tr>\n",
       "      <th>18</th>\n",
       "      <td>Germany</td>\n",
       "      <td>46.413130</td>\n",
       "      <td>115</td>\n",
       "    </tr>\n",
       "    <tr>\n",
       "      <th>46</th>\n",
       "      <td>South Africa</td>\n",
       "      <td>46.399000</td>\n",
       "      <td>10</td>\n",
       "    </tr>\n",
       "    <tr>\n",
       "      <th>17</th>\n",
       "      <td>France</td>\n",
       "      <td>46.367339</td>\n",
       "      <td>109</td>\n",
       "    </tr>\n",
       "    <tr>\n",
       "      <th>35</th>\n",
       "      <td>Norway</td>\n",
       "      <td>46.330000</td>\n",
       "      <td>12</td>\n",
       "    </tr>\n",
       "    <tr>\n",
       "      <th>20</th>\n",
       "      <td>Hong Kong</td>\n",
       "      <td>46.295000</td>\n",
       "      <td>12</td>\n",
       "    </tr>\n",
       "    <tr>\n",
       "      <th>47</th>\n",
       "      <td>South Korea</td>\n",
       "      <td>46.198333</td>\n",
       "      <td>72</td>\n",
       "    </tr>\n",
       "    <tr>\n",
       "      <th>1</th>\n",
       "      <td>Australia</td>\n",
       "      <td>45.825517</td>\n",
       "      <td>58</td>\n",
       "    </tr>\n",
       "    <tr>\n",
       "      <th>16</th>\n",
       "      <td>Finland</td>\n",
       "      <td>45.531500</td>\n",
       "      <td>20</td>\n",
       "    </tr>\n",
       "  </tbody>\n",
       "</table>\n",
       "</div>"
      ],
      "text/plain": [
       "           country       mean  count\n",
       "26          Israel  52.654091     22\n",
       "54             USA  51.839860    573\n",
       "50     Switzerland  51.208846     26\n",
       "43       Singapore  50.160000      5\n",
       "57  United Kingdom  49.474653    144\n",
       "33     Netherlands  47.958276     29\n",
       "49          Sweden  47.890000     24\n",
       "13         Denmark  47.774167     12\n",
       "40          Russia  47.381111      9\n",
       "6           Canada  47.359306     72\n",
       "28           Japan  47.229560    159\n",
       "3          Belgium  47.011000     20\n",
       "18         Germany  46.413130    115\n",
       "46    South Africa  46.399000     10\n",
       "17          France  46.367339    109\n",
       "35          Norway  46.330000     12\n",
       "20       Hong Kong  46.295000     12\n",
       "47     South Korea  46.198333     72\n",
       "1        Australia  45.825517     58\n",
       "16         Finland  45.531500     20"
      ]
     },
     "execution_count": 343,
     "metadata": {},
     "output_type": "execute_result"
    }
   ],
   "source": [
    "sorted_frame = cwur_agg.sort('mean', ascending=False)\n",
    "sorted_frame.head(20)"
   ]
  }
 ],
 "metadata": {
  "kernelspec": {
   "display_name": "Python 2",
   "language": "python",
   "name": "python2"
  },
  "language_info": {
   "codemirror_mode": {
    "name": "ipython",
    "version": 2
   },
   "file_extension": ".py",
   "mimetype": "text/x-python",
   "name": "python",
   "nbconvert_exporter": "python",
   "pygments_lexer": "ipython2",
   "version": "2.7.6"
  }
 },
 "nbformat": 4,
 "nbformat_minor": 0
}
